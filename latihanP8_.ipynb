{
  "nbformat": 4,
  "nbformat_minor": 0,
  "metadata": {
    "colab": {
      "provenance": [],
      "authorship_tag": "ABX9TyO1pPVSkIhB0zBmdxZMTYUA",
      "include_colab_link": true
    },
    "kernelspec": {
      "name": "python3",
      "display_name": "Python 3"
    },
    "language_info": {
      "name": "python"
    }
  },
  "cells": [
    {
      "cell_type": "markdown",
      "metadata": {
        "id": "view-in-github",
        "colab_type": "text"
      },
      "source": [
        "<a href=\"https://colab.research.google.com/github/SaniaNurunnisaHaq/phyton-sunny/blob/main/latihanP8_.ipynb\" target=\"_parent\"><img src=\"https://colab.research.google.com/assets/colab-badge.svg\" alt=\"Open In Colab\"/></a>"
      ]
    },
    {
      "cell_type": "code",
      "execution_count": 54,
      "metadata": {
        "colab": {
          "base_uri": "https://localhost:8080/"
        },
        "id": "u31DnffD_QxB",
        "outputId": "901b109c-1f8a-489f-987e-57a0f7493d6f"
      },
      "outputs": [
        {
          "output_type": "stream",
          "name": "stdout",
          "text": [
            "2\n",
            "Array S setelah dikalikan dengan D: [4, 6, 8, 10, 12, 14]\n"
          ]
        }
      ],
      "source": [
        "i = int\n",
        "S = int\n",
        "S = (2,3,4,5,6,7)\n",
        "D = int(input())\n",
        "for i in range (0,6):\n",
        "  i = [x * D for x in S]\n",
        "print(\"Array S setelah dikalikan dengan D:\", i)\n",
        ""
      ]
    },
    {
      "cell_type": "code",
      "source": [
        "N = int(input(\"Masukkan jumlah elemen array (N): \"))\n",
        "T = []\n",
        "print(\"Masukkan elemen array T:\")\n",
        "for i in range(N):\n",
        "    elemen = int(input(f\"Elemen ke-{i+1}: \"))\n",
        "    T.append(elemen)\n",
        "nilai_terbesar = max(T)\n",
        "nilai_terkecil = min(T)\n",
        "print(f\"Array T: {T}\")\n",
        "print(f\"Nilai terbesar dalam array T adalah: {nilai_terbesar}\")\n",
        "print(f\"Nilai terkecil dalam array T adalah: {nilai_terkecil}\")"
      ],
      "metadata": {
        "colab": {
          "base_uri": "https://localhost:8080/"
        },
        "id": "OuO9OXAKKmfJ",
        "outputId": "575820a9-42ca-4710-8c8c-426c799b206e"
      },
      "execution_count": 57,
      "outputs": [
        {
          "output_type": "stream",
          "name": "stdout",
          "text": [
            "Masukkan jumlah elemen array (N): 4\n",
            "Masukkan elemen array T:\n",
            "Elemen ke-1: 5\n",
            "Elemen ke-2: 6\n",
            "Elemen ke-3: 7\n",
            "Elemen ke-4: 8\n",
            "Array T: [5, 6, 7, 8]\n",
            "Nilai terbesar dalam array T adalah: 8\n",
            "Nilai terkecil dalam array T adalah: 5\n"
          ]
        }
      ]
    }
  ]
}