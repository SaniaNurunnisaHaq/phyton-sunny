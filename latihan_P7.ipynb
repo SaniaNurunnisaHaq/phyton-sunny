{
  "nbformat": 4,
  "nbformat_minor": 0,
  "metadata": {
    "colab": {
      "provenance": [],
      "authorship_tag": "ABX9TyPvDxjbGKk2LTqyoJJGNpp+",
      "include_colab_link": true
    },
    "kernelspec": {
      "name": "python3",
      "display_name": "Python 3"
    },
    "language_info": {
      "name": "python"
    }
  },
  "cells": [
    {
      "cell_type": "markdown",
      "metadata": {
        "id": "view-in-github",
        "colab_type": "text"
      },
      "source": [
        "<a href=\"https://colab.research.google.com/github/SaniaNurunnisaHaq/phyton-sunny/blob/main/latihan_P7.ipynb\" target=\"_parent\"><img src=\"https://colab.research.google.com/assets/colab-badge.svg\" alt=\"Open In Colab\"/></a>"
      ]
    },
    {
      "cell_type": "code",
      "execution_count": 1,
      "metadata": {
        "colab": {
          "base_uri": "https://localhost:8080/"
        },
        "id": "whapZkEtYGrb",
        "outputId": "567c060f-c9e3-46ec-9c3c-7249a201bc73"
      },
      "outputs": [
        {
          "output_type": "stream",
          "name": "stdout",
          "text": [
            "Anak ayam turunlah 5, mati satu tinggallah 4\n",
            "Anak ayam turunlah 4, mati satu tinggallah 3\n",
            "Anak ayam turunlah 3, mati satu tinggallah 2\n",
            "Anak ayam turunlah 2, mati satu tinggallah 1\n",
            "Anak ayam turunlah 1, mati satu tinggal induknya\n"
          ]
        }
      ],
      "source": [
        "def lagu_anak_ayam_for(n):\n",
        "    for i in range(n, 0, -1):\n",
        "        if i > 1:\n",
        "            print(f\"Anak ayam turunlah {i}, mati satu tinggallah {i-1}\")\n",
        "        else:\n",
        "            print(f\"Anak ayam turunlah {i}, mati satu tinggal induknya\")"
      ]
    },
    {
      "cell_type": "code",
      "source": [
        "def lagu_anak_ayam_while(n):\n",
        "    while n > 0:\n",
        "        if n > 1:\n",
        "            print(f\"Anak ayam turunlah {n}, mati satu tinggallah {n-1}\")\n",
        "        else:\n",
        "            print(f\"Anak ayam turunlah {n}, mati satu tinggal induknya\")\n",
        "        n -= 1"
      ],
      "metadata": {
        "colab": {
          "base_uri": "https://localhost:8080/"
        },
        "id": "agGi986ZYMWV",
        "outputId": "9ebe87ed-23bd-424f-dc39-97fd910cf6dc"
      },
      "execution_count": 3,
      "outputs": [
        {
          "output_type": "stream",
          "name": "stdout",
          "text": [
            "Anak ayam turunlah 5, mati satu tinggallah 4\n",
            "Anak ayam turunlah 4, mati satu tinggallah 3\n",
            "Anak ayam turunlah 3, mati satu tinggallah 2\n",
            "Anak ayam turunlah 2, mati satu tinggallah 1\n",
            "Anak ayam turunlah 1, mati satu tinggal induknya\n"
          ]
        }
      ]
    },
    {
      "cell_type": "code",
      "source": [
        "def lagu_anak_ayam_format(n):\n",
        "    for i in range(n, 0, -1):\n",
        "        print(f\"Anak ayam turunlah {i}, mati satu tinggallah {i-1 if i > 1 else 'induknya'}\")"
      ],
      "metadata": {
        "colab": {
          "base_uri": "https://localhost:8080/"
        },
        "id": "t_sPe9EdYbNy",
        "outputId": "97166ca7-7284-4dad-81c7-dcf7eba5933d"
      },
      "execution_count": 2,
      "outputs": [
        {
          "output_type": "stream",
          "name": "stdout",
          "text": [
            "Anak ayam turunlah 5, mati satu tinggallah 4\n",
            "Anak ayam turunlah 4, mati satu tinggallah 3\n",
            "Anak ayam turunlah 3, mati satu tinggallah 2\n",
            "Anak ayam turunlah 2, mati satu tinggallah 1\n",
            "Anak ayam turunlah 1, mati satu tinggallah induknya\n"
          ]
        }
      ]
    },
    {
      "cell_type": "code",
      "source": [
        "#menghitung kelipatan 5\n",
        "jumlah_kelipatan_5 = 0\n",
        "N=100\n",
        "for i in range(1, 101):\n",
        "    if i % 5 == 0:\n",
        "        jumlah_kelipatan_5 += i\n",
        "        print(i)\n",
        "print(\"jumlah kelipatan 5 antara 1 s.d.N adalah\", ((i + 5)*20/2))"
      ],
      "metadata": {
        "colab": {
          "base_uri": "https://localhost:8080/"
        },
        "id": "ALuBcksBaBPd",
        "outputId": "2d4b251c-640c-4bca-e744-d7fe6bacc5a2"
      },
      "execution_count": 15,
      "outputs": [
        {
          "output_type": "stream",
          "name": "stdout",
          "text": [
            "5\n",
            "10\n",
            "15\n",
            "20\n",
            "25\n",
            "30\n",
            "35\n",
            "40\n",
            "45\n",
            "50\n",
            "55\n",
            "60\n",
            "65\n",
            "70\n",
            "75\n",
            "80\n",
            "85\n",
            "90\n",
            "95\n",
            "100\n",
            "jumlah kelipatan 5 antara 1 s.d.N adalah 1050.0\n"
          ]
        }
      ]
    }
  ]
}