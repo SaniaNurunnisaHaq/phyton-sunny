{
  "nbformat": 4,
  "nbformat_minor": 0,
  "metadata": {
    "colab": {
      "provenance": [],
      "authorship_tag": "ABX9TyMShkQh5M5jYGuTjB3cd9rp",
      "include_colab_link": true
    },
    "kernelspec": {
      "name": "python3",
      "display_name": "Python 3"
    },
    "language_info": {
      "name": "python"
    }
  },
  "cells": [
    {
      "cell_type": "markdown",
      "metadata": {
        "id": "view-in-github",
        "colab_type": "text"
      },
      "source": [
        "<a href=\"https://colab.research.google.com/github/SaniaNurunnisaHaq/phyton-sunny/blob/main/P8_Latihan.ipynb\" target=\"_parent\"><img src=\"https://colab.research.google.com/assets/colab-badge.svg\" alt=\"Open In Colab\"/></a>"
      ]
    },
    {
      "cell_type": "code",
      "source": [
        "arr = [10, 20, 30, 40]\n",
        "print(arr)"
      ],
      "metadata": {
        "colab": {
          "base_uri": "https://localhost:8080/"
        },
        "id": "oqBSJXSyednV",
        "outputId": "598fff43-4b6a-4b91-d0dc-3f8116c9d26e"
      },
      "execution_count": 6,
      "outputs": [
        {
          "output_type": "stream",
          "name": "stdout",
          "text": [
            "[10, 20, 30, 40]\n"
          ]
        }
      ]
    },
    {
      "cell_type": "code",
      "source": [
        "list_numbers = [1, 2, 3, 4, 5]\n",
        "print(list_numbers)"
      ],
      "metadata": {
        "colab": {
          "base_uri": "https://localhost:8080/"
        },
        "id": "8EAF9JtNemJ6",
        "outputId": "14851e59-bc9c-439f-e287-dc696b5b4bbe"
      },
      "execution_count": 7,
      "outputs": [
        {
          "output_type": "stream",
          "name": "stdout",
          "text": [
            "[1, 2, 3, 4, 5]\n"
          ]
        }
      ]
    },
    {
      "cell_type": "code",
      "source": [
        "list_numbers[0] = 100 # mengubah elemen pertama menjadi 100\n",
        "print(list_numbers[0])"
      ],
      "metadata": {
        "colab": {
          "base_uri": "https://localhost:8080/"
        },
        "id": "D_yGHemieoWz",
        "outputId": "0505bb5a-1748-4401-f451-3c9b57a36ea2"
      },
      "execution_count": 14,
      "outputs": [
        {
          "output_type": "stream",
          "name": "stdout",
          "text": [
            "100\n"
          ]
        }
      ]
    },
    {
      "cell_type": "code",
      "source": [
        "arr = [1, 2, 3, 4, 5]\n",
        "arr"
      ],
      "metadata": {
        "colab": {
          "base_uri": "https://localhost:8080/"
        },
        "id": "OlMW5jVzez_D",
        "outputId": "3ba31e49-7c44-40aa-8c57-5f6ae8798f09"
      },
      "execution_count": 15,
      "outputs": [
        {
          "output_type": "execute_result",
          "data": {
            "text/plain": [
              "[1, 2, 3, 4, 5]"
            ]
          },
          "metadata": {},
          "execution_count": 15
        }
      ]
    },
    {
      "cell_type": "code",
      "source": [
        "data = [1, 2, 3, 'hello', 5.5]  # array dengan elemen tipe berbeda\n",
        "data"
      ],
      "metadata": {
        "colab": {
          "base_uri": "https://localhost:8080/"
        },
        "id": "swFG9JJ1e4dz",
        "outputId": "9d3bd448-3442-427e-da1d-f420c6496303"
      },
      "execution_count": 17,
      "outputs": [
        {
          "output_type": "execute_result",
          "data": {
            "text/plain": [
              "[1, 2, 3, 'hello', 5.5]"
            ]
          },
          "metadata": {},
          "execution_count": 17
        }
      ]
    },
    {
      "cell_type": "code",
      "source": [
        "arr = [0] * 5  # Membuat array dengan 5 elemen, semua berisi 0\n",
        "arr"
      ],
      "metadata": {
        "colab": {
          "base_uri": "https://localhost:8080/"
        },
        "id": "e4rQRQxme8IV",
        "outputId": "52a1122a-55bf-44c4-b6c6-747cd3fe6a4f"
      },
      "execution_count": 18,
      "outputs": [
        {
          "output_type": "execute_result",
          "data": {
            "text/plain": [
              "[0, 0, 0, 0, 0]"
            ]
          },
          "metadata": {},
          "execution_count": 18
        }
      ]
    },
    {
      "cell_type": "code",
      "source": [
        "arr = [10, 20, 30, 40]\n",
        "print(arr[0])  # Output: 10 (indeks pertama)\n",
        "print(arr[3])  # Output: 40 (indeks terakhir)\n"
      ],
      "metadata": {
        "colab": {
          "base_uri": "https://localhost:8080/"
        },
        "id": "96CJtjZUe-uj",
        "outputId": "e4762198-cce7-48eb-f73c-037286384e44"
      },
      "execution_count": 8,
      "outputs": [
        {
          "output_type": "stream",
          "name": "stdout",
          "text": [
            "10\n",
            "40\n"
          ]
        }
      ]
    },
    {
      "cell_type": "code",
      "source": [
        "arr = [10, 20, 30, 40, 50]\n",
        "for elemen in arr:\n",
        "    print(elemen)"
      ],
      "metadata": {
        "colab": {
          "base_uri": "https://localhost:8080/"
        },
        "id": "oON_vBAufBi7",
        "outputId": "4b3b6afc-7807-437e-fade-6bdc1856908b"
      },
      "execution_count": 9,
      "outputs": [
        {
          "output_type": "stream",
          "name": "stdout",
          "text": [
            "10\n",
            "20\n",
            "30\n",
            "40\n",
            "50\n"
          ]
        }
      ]
    },
    {
      "cell_type": "code",
      "source": [
        "total = 0\n",
        "for elemen in arr:\n",
        "    total += elemen\n",
        "print(total)  # Output: 150"
      ],
      "metadata": {
        "colab": {
          "base_uri": "https://localhost:8080/"
        },
        "id": "HGF0aE-efFLL",
        "outputId": "cbb030c6-716e-4cdb-9721-b6755e741159"
      },
      "execution_count": 10,
      "outputs": [
        {
          "output_type": "stream",
          "name": "stdout",
          "text": [
            "150\n"
          ]
        }
      ]
    },
    {
      "cell_type": "code",
      "source": [
        "arr = [ 2,4,2,6,8,0]\n",
        "#nilai maksimum\n",
        "max = arr[0]\n",
        "for elemen in arr:\n",
        "    if elemen > max:\n",
        "        max = elemen\n",
        "print(\"jadi nilai maksimal adalah \",max)\n",
        "\n",
        "#nilai minimum\n",
        "min = arr[0]\n",
        "for elemen in arr:\n",
        "    if elemen < min:\n",
        "        min = elemen\n",
        "print(\"jadi nilai mminimal adalah\", min)\n",
        "\n",
        "#hasil penjumlahan seluruh elemen\n",
        "total = 0\n",
        "for elemen in arr:\n",
        "    total += elemen\n",
        "print(\"jadi hasil seluruhnya adalah\", total)\n",
        "\n",
        "#jumlah seluruh elemen\n",
        "count = 0\n",
        "for elemen in arr:\n",
        "    count += 1\n",
        "print(\"jadi jumlah seluruh elemen adalah\", count)\n",
        "\n",
        "#rata-rata seluruh elemen\n",
        "rata = total / count\n",
        "print(\"jadi rata-ratanya adalah\",rata)"
      ],
      "metadata": {
        "colab": {
          "base_uri": "https://localhost:8080/"
        },
        "id": "Q-jb-rchfIuL",
        "outputId": "268fa7ab-2f38-4f3d-eb1b-be2a3e6195dc"
      },
      "execution_count": 5,
      "outputs": [
        {
          "output_type": "stream",
          "name": "stdout",
          "text": [
            "jadi nilai maksimal adalah  8\n",
            "jadi nilai mminimal adalah 0\n",
            "jadi hasil seluruhnya adalah 22\n",
            "jadi jumlah seluruh elemen adalah 6\n",
            "jadi rata-ratanya adalah 3.6666666666666665\n"
          ]
        }
      ]
    },
    {
      "cell_type": "code",
      "source": [
        "#short way\n",
        "print(max(arr))\n",
        "print(min(arr))\n",
        "print(sum(arr))\n",
        "print(len(arr))\n",
        "print(sum(arr)/len(arr))"
      ],
      "metadata": {
        "id": "B34r1SlafNXr"
      },
      "execution_count": null,
      "outputs": []
    },
    {
      "cell_type": "code",
      "execution_count": 1,
      "metadata": {
        "colab": {
          "base_uri": "https://localhost:8080/"
        },
        "id": "simZGymseGNF",
        "outputId": "f86cd72b-719f-459a-d88e-319b9021b6b8"
      },
      "outputs": [
        {
          "output_type": "stream",
          "name": "stdout",
          "text": [
            "nilai terbesar dari T1 adalah 30\n",
            "nilai terkecil dari T1 adalah -1\n",
            "nilai terbesar dari T2 adalah 90\n",
            "nilai terkecil dari T2 adalah -12\n"
          ]
        }
      ],
      "source": [
        "# Soal 2\n",
        "T1 = [9, 12, 30, -1, 0, 4, -1, 3, 30, 14]\n",
        "nilai_terbesarT1 = max(T1)\n",
        "print (\"nilai terbesar dari T1 adalah\", nilai_terbesarT1)\n",
        "\n",
        "nilai_terkecilT1 = min(T1)\n",
        "print (\"nilai terkecil dari T1 adalah\", nilai_terkecilT1)\n",
        "\n",
        "T2 = [1, 3, 5, 8, -12, 90, 3, 5]\n",
        "nilai_terbesarT2 = max(T2)\n",
        "print (\"nilai terbesar dari T2 adalah\", nilai_terbesarT2)\n",
        "\n",
        "nilai_terkecilT2 = min(T2)\n",
        "print (\"nilai terkecil dari T2 adalah\", nilai_terkecilT2)"
      ]
    }
  ]
}