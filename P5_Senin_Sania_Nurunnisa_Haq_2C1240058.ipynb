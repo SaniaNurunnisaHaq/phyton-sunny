{
  "nbformat": 4,
  "nbformat_minor": 0,
  "metadata": {
    "colab": {
      "provenance": [],
      "authorship_tag": "ABX9TyN94u8uTcpDQbg3P2N0Jfqb",
      "include_colab_link": true
    },
    "kernelspec": {
      "name": "python3",
      "display_name": "Python 3"
    },
    "language_info": {
      "name": "python"
    }
  },
  "cells": [
    {
      "cell_type": "markdown",
      "metadata": {
        "id": "view-in-github",
        "colab_type": "text"
      },
      "source": [
        "<a href=\"https://colab.research.google.com/github/SaniaNurunnisaHaq/phyton-sunny/blob/main/P5_Senin_Sania_Nurunnisa_Haq_2C1240058.ipynb\" target=\"_parent\"><img src=\"https://colab.research.google.com/assets/colab-badge.svg\" alt=\"Open In Colab\"/></a>"
      ]
    },
    {
      "cell_type": "code",
      "execution_count": 3,
      "metadata": {
        "colab": {
          "base_uri": "https://localhost:8080/"
        },
        "id": "_HiNNe_s0FG4",
        "outputId": "a441d94a-1ce9-4aec-ea02-c271f8779a10"
      },
      "outputs": [
        {
          "output_type": "stream",
          "name": "stdout",
          "text": [
            "Hello, World!\n"
          ]
        }
      ],
      "source": [
        "# Program HelloWorld\n",
        "# Mencetak Hello, World ke layar\n",
        "# KAMUS\n",
        "# belum diperlukan\n",
        "# ALGORITMA\n",
        "print(\"Hello, World!\")"
      ]
    },
    {
      "cell_type": "code",
      "source": [
        "# Program Test\n",
        "# Spesifikasi : Menghitung Nilai A dan B\n",
        "# KAMUS\n",
        "# A : int\n",
        "# B : int\n",
        "# ALGORITMA\n",
        "A = int(input('masukkan nilai A'))\n",
        "B = int(input('masukkan nilai B'))\n",
        "A = A + B\n",
        "print(A)\n",
        "print(B)\n"
      ],
      "metadata": {
        "colab": {
          "base_uri": "https://localhost:8080/"
        },
        "id": "HF5r5xV82hMb",
        "outputId": "83764484-d7e1-43a2-836b-e3127c39dfc8"
      },
      "execution_count": 12,
      "outputs": [
        {
          "output_type": "stream",
          "name": "stdout",
          "text": [
            "masukkan nilai A7\n",
            "masukkan nilai B5\n",
            "12\n",
            "5\n"
          ]
        }
      ]
    },
    {
      "cell_type": "code",
      "source": [
        "from re import M\n",
        "# Program Toko Kelereng\n",
        "# Spesifikasi : menghitung total nilai T\n",
        "# KAMUS\n",
        "# M = 10\n",
        "# H = 15\n",
        "# K = 20\n",
        "# ALGORITMA\n",
        "M = int(input(\"masukan jumlah kelereng : M\"))\n",
        "H = int (input(\"masukkan jumlah kelereng : H\"))\n",
        "K = int (input(\"masukkan jumlah kelereng : K\"))\n",
        "totalbayar =(M*10 + H*5 + K*4)\n",
        "print(totalbayar)\n",
        "\n",
        "\n"
      ],
      "metadata": {
        "colab": {
          "base_uri": "https://localhost:8080/"
        },
        "id": "h9wrTAr-9wh6",
        "outputId": "311abc42-3584-4242-d46e-fc3f7f42aaf6"
      },
      "execution_count": 19,
      "outputs": [
        {
          "output_type": "stream",
          "name": "stdout",
          "text": [
            "masukan jumlah kelereng : M10\n",
            "masukkan jumlah kelereng : H15\n",
            "masukkan jumlah kelereng : K20\n",
            "255\n"
          ]
        }
      ]
    },
    {
      "cell_type": "code",
      "source": [
        "print(\"Hello World\")"
      ],
      "metadata": {
        "id": "NNDxaKRXGzHL"
      },
      "execution_count": null,
      "outputs": []
    }
  ]
}